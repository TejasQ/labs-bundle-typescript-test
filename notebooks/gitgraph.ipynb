{
 "cells": [
  {
   "cell_type": "code",
   "execution_count": 12,
   "metadata": {},
   "outputs": [],
   "source": [
    "var React = require(\"react\")\n",
    "var { Gitgraph, templateExtend } = require(\"gitgraph-react\")\n",
    "var Enzyme = require(\"enzyme\")\n",
    "\n",
    "var Adapter = require(\"enzyme-adapter-react-16\");\n",
    "Enzyme.configure({ adapter: new Adapter() });"
   ]
  },
  {
   "cell_type": "code",
   "execution_count": 27,
   "metadata": {},
   "outputs": [
    {
     "data": {
      "text/html": [
       "<svg width=\"1000\" height=\"1000\"><path d=\"M 0 240 L 0 180 L 0 120 L 0 60 L 0 0\" fill=\"transparent\" stroke=\"#000000\" stroke-width=\"4\" transform=\"translate(16, 16)\"></path><path d=\"M 0 180 L 50 120 L 50 60 L 0 0\" fill=\"transparent\" stroke=\"#000000\" stroke-width=\"4\" transform=\"translate(16, 16)\"></path><g transform=\"translate(0, 240)\"><defs><circle id=\"d1e78643b6ff15f6168182f89558dd3ccf9d05c9\" cx=\"16\" cy=\"16\" r=\"16\" fill=\"#6963FF\"></circle><clipPath id=\"clip-d1e78643b6ff15f6168182f89558dd3ccf9d05c9\"><use xlink:href=\"#d1e78643b6ff15f6168182f89558dd3ccf9d05c9\"></use></clipPath></defs><g><use xlink:href=\"#d1e78643b6ff15f6168182f89558dd3ccf9d05c9\" clip-path=\"url(#clip-d1e78643b6ff15f6168182f89558dd3ccf9d05c9)\" stroke=\"#000000\" stroke-width=\"8\"></use></g><text x=\"100\" y=\"16\" alignment-baseline=\"central\" fill=\"black\" style=\"font:normal 12pt Calibri\">d1e7864 Initial commit - Fabien Bernard &lt;fabien@contiamo.com&gt;</text></g><g transform=\"translate(0, 180)\"><defs><circle id=\"4e6a82d6df795cb2c74a13389b0c4509eb5cf527\" cx=\"16\" cy=\"16\" r=\"16\" fill=\"#6963FF\"></circle><clipPath id=\"clip-4e6a82d6df795cb2c74a13389b0c4509eb5cf527\"><use xlink:href=\"#4e6a82d6df795cb2c74a13389b0c4509eb5cf527\"></use></clipPath></defs><g><use xlink:href=\"#4e6a82d6df795cb2c74a13389b0c4509eb5cf527\" clip-path=\"url(#clip-4e6a82d6df795cb2c74a13389b0c4509eb5cf527)\" stroke=\"#000000\" stroke-width=\"8\"></use></g><text x=\"100\" y=\"16\" alignment-baseline=\"central\" fill=\"black\" style=\"font:normal 12pt Calibri\">4e6a82d Add a Readme - Fabien Bernard &lt;fabien@contiamo.com&gt;</text><g transform=\"translate(16, 16)\"><path d=\"M8.878689293818311e-16,14.5 L13.233454043085525,27.479550471023785 Q1.3777276490407724e-15,22.5 -13.233454043085521,27.479550471023785 L-13.233454043085521,27.479550471023785\"></path></g></g><g transform=\"translate(50, 120)\"><defs><circle id=\"dae4708f9fb253cefed96f0249f1d393c0811ac9\" cx=\"16\" cy=\"16\" r=\"16\" fill=\"#47E8D4\"></circle><clipPath id=\"clip-dae4708f9fb253cefed96f0249f1d393c0811ac9\"><use xlink:href=\"#dae4708f9fb253cefed96f0249f1d393c0811ac9\"></use></clipPath></defs><g><use xlink:href=\"#dae4708f9fb253cefed96f0249f1d393c0811ac9\" clip-path=\"url(#clip-dae4708f9fb253cefed96f0249f1d393c0811ac9)\" stroke=\"#000000\" stroke-width=\"8\"></use></g><text x=\"50\" y=\"16\" alignment-baseline=\"central\" fill=\"black\" style=\"font:normal 12pt Calibri\">dae4708 Add everything! - Fabien Bernard &lt;fabien@contiamo.com&gt;</text><g transform=\"translate(16, 16)\"><path d=\"M-9.28267379513496,11.139208554161948 L-7.425758522869912,29.58222625767075 Q-14.404148992450798,17.284978790940954 -27.758200519814363,12.638524593550372 L-27.758200519814363,12.638524593550372\"></path></g></g><g transform=\"translate(50, 60)\"><defs><circle id=\"c24ea1dc5651b76ca08ec605e014b02e409f9b7b\" cx=\"16\" cy=\"16\" r=\"16\" fill=\"#47E8D4\"></circle><clipPath id=\"clip-c24ea1dc5651b76ca08ec605e014b02e409f9b7b\"><use xlink:href=\"#c24ea1dc5651b76ca08ec605e014b02e409f9b7b\"></use></clipPath></defs><g><use xlink:href=\"#c24ea1dc5651b76ca08ec605e014b02e409f9b7b\" clip-path=\"url(#clip-c24ea1dc5651b76ca08ec605e014b02e409f9b7b)\" stroke=\"#000000\" stroke-width=\"8\"></use></g><text x=\"50\" y=\"16\" alignment-baseline=\"central\" fill=\"black\" style=\"font:normal 12pt Calibri\">c24ea1d Fix all remaining bugs 😁 - Fabien Bernard &lt;fabien@contiamo.com&gt;</text><g transform=\"translate(16, 16)\"><path d=\"M8.878689293818311e-16,14.5 L13.233454043085525,27.479550471023785 Q1.3777276490407724e-15,22.5 -13.233454043085521,27.479550471023785 L-13.233454043085521,27.479550471023785\"></path></g></g><g transform=\"translate(0, 0)\"><defs><circle id=\"686dd87e4d75c0220f7a2bb8cd19842de724b4fc\" cx=\"16\" cy=\"16\" r=\"16\" fill=\"#6963FF\"></circle><clipPath id=\"clip-686dd87e4d75c0220f7a2bb8cd19842de724b4fc\"><use xlink:href=\"#686dd87e4d75c0220f7a2bb8cd19842de724b4fc\"></use></clipPath></defs><g><use xlink:href=\"#686dd87e4d75c0220f7a2bb8cd19842de724b4fc\" clip-path=\"url(#clip-686dd87e4d75c0220f7a2bb8cd19842de724b4fc)\" stroke=\"#000000\" stroke-width=\"8\"></use></g><text x=\"100\" y=\"16\" alignment-baseline=\"central\" fill=\"black\" style=\"font:normal 12pt Calibri\">686dd87 Merge branch demo - Fabien Bernard &lt;fabien@contiamo.com&gt;</text><g transform=\"translate(16, 16)\"><path d=\"M8.878689293818311e-16,14.5 L13.233454043085525,27.479550471023785 Q1.3777276490407724e-15,22.5 -13.233454043085521,27.479550471023785 L-13.233454043085521,27.479550471023785\"></path></g><g transform=\"translate(16, 16)\"><path d=\"M9.28267379513496,11.13920855416195 L27.758200519814363,12.638524593550375 Q14.404148992450798,17.284978790940958 7.425758522869909,29.582226257670754 L7.425758522869909,29.582226257670754\"></path></g></g></svg>"
      ]
     },
     "execution_count": 27,
     "metadata": {},
     "output_type": "execute_result"
    }
   ],
   "source": [
    "var options = {\n",
    "    author: \"Fabien Bernard <fabien@contiamo.com>\",\n",
    "    template: templateExtend(\"blackarrow\", {\n",
    "            commit: {\n",
    "                message: {\n",
    "                  displayBranch: false,\n",
    "                }\n",
    "            }\n",
    "        })\n",
    "}\n",
    "\n",
    "var App = React.createElement(Gitgraph, {options}, (gitgraph) => {\n",
    "    var master = gitgraph.branch(\"master\")\n",
    "        .commit(\"Initial commit\")\n",
    "        .commit(\"Add a Readme\");\n",
    "\n",
    "    var demo = gitgraph.branch(\"demo\")\n",
    "        .commit(\"Add everything!\")\n",
    "        .commit(\"Fix all remaining bugs 😁\");\n",
    "    \n",
    "    master.merge(demo)\n",
    "})\n",
    "\n",
    "$$.html(Enzyme.shallow(App).html())"
   ]
  },
  {
   "cell_type": "code",
   "execution_count": null,
   "metadata": {},
   "outputs": [],
   "source": []
  }
 ],
 "metadata": {
  "kernelspec": {
   "display_name": "Javascript (Node.js)",
   "language": "javascript",
   "name": "javascript"
  },
  "language_info": {
   "file_extension": ".js",
   "mimetype": "application/javascript",
   "name": "javascript",
   "version": "9.11.1"
  }
 },
 "nbformat": 4,
 "nbformat_minor": 2
}
