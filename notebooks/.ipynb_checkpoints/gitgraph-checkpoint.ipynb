{
 "cells": [
  {
   "cell_type": "code",
   "execution_count": 12,
   "metadata": {},
   "outputs": [],
   "source": [
    "var React = require(\"react\")\n",
    "var { Gitgraph, templateExtend } = require(\"gitgraph-react\")\n",
    "var Enzyme = require(\"enzyme\")\n",
    "\n",
    "var Adapter = require(\"enzyme-adapter-react-16\");\n",
    "Enzyme.configure({ adapter: new Adapter() });"
   ]
  },
  {
   "cell_type": "code",
   "execution_count": 26,
   "metadata": {},
   "outputs": [
    {
     "data": {
      "text/html": [
       "<svg width=\"1000\" height=\"1000\"><path d=\"M 0 320 C 0 280 0 280 0 240 L 0 160 L 0 80 C 0 40 0 40 0 0\" fill=\"transparent\" stroke=\"#979797\" stroke-width=\"10\" transform=\"translate(14, 14)\"></path><path d=\"M 0 240 C 0 200 50 200 50 160 L 50 80 C 50 40 0 40 0 0\" fill=\"transparent\" stroke=\"#008fb5\" stroke-width=\"10\" transform=\"translate(14, 14)\"></path><g transform=\"translate(0, 320)\"><defs><circle id=\"621b7d36a0e7adc5b4ef77ef866deb242d49b8cd\" cx=\"14\" cy=\"14\" r=\"14\" fill=\"#979797\"></circle><clipPath id=\"clip-621b7d36a0e7adc5b4ef77ef866deb242d49b8cd\"><use xlink:href=\"#621b7d36a0e7adc5b4ef77ef866deb242d49b8cd\"></use></clipPath></defs><g><use xlink:href=\"#621b7d36a0e7adc5b4ef77ef866deb242d49b8cd\" clip-path=\"url(#clip-621b7d36a0e7adc5b4ef77ef866deb242d49b8cd)\" stroke-width=\"0\"></use></g><text x=\"100\" y=\"14\" alignment-baseline=\"central\" fill=\"#979797\" style=\"font:normal 14pt Arial\">621b7d3 Initial commit - Fabien Bernard &lt;fabien@contiamo.com&gt;</text></g><g transform=\"translate(0, 240)\"><defs><circle id=\"305e4bb42adb7a498150aafada9b43bebed81fe4\" cx=\"14\" cy=\"14\" r=\"14\" fill=\"#979797\"></circle><clipPath id=\"clip-305e4bb42adb7a498150aafada9b43bebed81fe4\"><use xlink:href=\"#305e4bb42adb7a498150aafada9b43bebed81fe4\"></use></clipPath></defs><g><use xlink:href=\"#305e4bb42adb7a498150aafada9b43bebed81fe4\" clip-path=\"url(#clip-305e4bb42adb7a498150aafada9b43bebed81fe4)\" stroke-width=\"0\"></use></g><text x=\"100\" y=\"14\" alignment-baseline=\"central\" fill=\"#979797\" style=\"font:normal 14pt Arial\">305e4bb Add a Readme - Fabien Bernard &lt;fabien@contiamo.com&gt;</text></g><g transform=\"translate(50, 160)\"><defs><circle id=\"3e490564c495d481a05a4467be4861e3ec8f8338\" cx=\"14\" cy=\"14\" r=\"14\" fill=\"#008fb5\"></circle><clipPath id=\"clip-3e490564c495d481a05a4467be4861e3ec8f8338\"><use xlink:href=\"#3e490564c495d481a05a4467be4861e3ec8f8338\"></use></clipPath></defs><g><use xlink:href=\"#3e490564c495d481a05a4467be4861e3ec8f8338\" clip-path=\"url(#clip-3e490564c495d481a05a4467be4861e3ec8f8338)\" stroke-width=\"0\"></use></g><text x=\"50\" y=\"14\" alignment-baseline=\"central\" fill=\"#008fb5\" style=\"font:normal 14pt Arial\">3e49056 Add everything! - Fabien Bernard &lt;fabien@contiamo.com&gt;</text></g><g transform=\"translate(50, 80)\"><defs><circle id=\"2966caf7f8cc03cb9ef099dec73d5857f7af3cf8\" cx=\"14\" cy=\"14\" r=\"14\" fill=\"#008fb5\"></circle><clipPath id=\"clip-2966caf7f8cc03cb9ef099dec73d5857f7af3cf8\"><use xlink:href=\"#2966caf7f8cc03cb9ef099dec73d5857f7af3cf8\"></use></clipPath></defs><g><use xlink:href=\"#2966caf7f8cc03cb9ef099dec73d5857f7af3cf8\" clip-path=\"url(#clip-2966caf7f8cc03cb9ef099dec73d5857f7af3cf8)\" stroke-width=\"0\"></use></g><text x=\"50\" y=\"14\" alignment-baseline=\"central\" fill=\"#008fb5\" style=\"font:normal 14pt Arial\">2966caf Fix all remaining bugs 😁 - Fabien Bernard &lt;fabien@contiamo.com&gt;</text></g><g transform=\"translate(0, 0)\"><defs><circle id=\"a29ed20affc28c8d1962d298c52028ccba6817cb\" cx=\"14\" cy=\"14\" r=\"14\" fill=\"#979797\"></circle><clipPath id=\"clip-a29ed20affc28c8d1962d298c52028ccba6817cb\"><use xlink:href=\"#a29ed20affc28c8d1962d298c52028ccba6817cb\"></use></clipPath></defs><g><use xlink:href=\"#a29ed20affc28c8d1962d298c52028ccba6817cb\" clip-path=\"url(#clip-a29ed20affc28c8d1962d298c52028ccba6817cb)\" stroke-width=\"0\"></use></g><text x=\"100\" y=\"14\" alignment-baseline=\"central\" fill=\"#979797\" style=\"font:normal 14pt Arial\">a29ed20 Merge branch demo - Fabien Bernard &lt;fabien@contiamo.com&gt;</text></g></svg>"
      ]
     },
     "execution_count": 26,
     "metadata": {},
     "output_type": "execute_result"
    }
   ],
   "source": [
    "var options = {\n",
    "    author: \"Fabien Bernard <fabien@contiamo.com>\",\n",
    "    template: templateExtend(\"metro\", {\n",
    "            commit: {\n",
    "                message: {\n",
    "                  displayBranch: false,\n",
    "                }\n",
    "            }\n",
    "        })\n",
    "}\n",
    "\n",
    "var App = React.createElement(Gitgraph, {options}, (gitgraph) => {\n",
    "    var master = gitgraph.branch(\"master\")\n",
    "        .commit(\"Initial commit\")\n",
    "        .commit(\"Add a Readme\");\n",
    "\n",
    "    var demo = gitgraph.branch(\"demo\")\n",
    "        .commit(\"Add everything!\")\n",
    "        .commit(\"Fix all remaining bugs 😁\");\n",
    "    \n",
    "    master.merge(demo)\n",
    "})\n",
    "\n",
    "$$.html(Enzyme.shallow(App).html())"
   ]
  }
 ],
 "metadata": {
  "kernelspec": {
   "display_name": "Javascript (Node.js)",
   "language": "javascript",
   "name": "javascript"
  },
  "language_info": {
   "file_extension": ".js",
   "mimetype": "application/javascript",
   "name": "javascript",
   "version": "9.11.1"
  }
 },
 "nbformat": 4,
 "nbformat_minor": 2
}
